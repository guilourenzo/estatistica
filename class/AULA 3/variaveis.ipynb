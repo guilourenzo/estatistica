{
  "cells": [
    {
      "cell_type": "markdown",
      "metadata": {
        "id": "5vM4MPH0fRZ4"
      },
      "source": [
        "# Variáveis aleatórias"
      ]
    },
    {
      "cell_type": "markdown",
      "metadata": {
        "id": "fl8Z1zPefRZ5"
      },
      "source": [
        "Um jogador paga 5 reais para participar de um jogo de dados, disputando com o oponente quem tem o ponto maior. O jogador e o oponente lançam cada um o seu dado e a seguinte regra de premiação é estabelecida:\n",
        "\n",
        "(i) Se o ponto do jogador é maior, ele ganha 2 vezes a diferença entre o seu ponto e o obtido pelo oponente.<br>\n",
        "(ii) Se o ponto do jogador é menor ou igual ao do oponente, ele não ganha nada.\n",
        "\n",
        "Esse jogo é favorável ao jogador?"
      ]
    },
    {
      "cell_type": "code",
      "execution_count": null,
      "metadata": {
        "id": "6Jg8Mb3xfRZ5",
        "outputId": "81368de3-6010-47db-ab5f-caa79a7e9873"
      },
      "outputs": [
        {
          "name": "stdout",
          "output_type": "stream",
          "text": [
            "Aposta: 10 reais.\n",
            "Probabilidade de lucro: 0.1\n"
          ]
        }
      ],
      "source": [
        "from random import randint\n",
        "aposta = 10\n",
        "Ns = 100 # número de jogos\n",
        "p = 0\n",
        "for n in range(1,Ns):\n",
        "    G = 0 # ganho do jogador\n",
        "    j = randint(1, 6) # valor do jogador\n",
        "    b = randint(1, 6) # valor do oponente\n",
        "    if(j > b): # se o valor do jogador é maior\n",
        "        G = 3*(j-b)\n",
        "    if(G > aposta): # se houver lucro\n",
        "        p = p + 1\n",
        "p = p/Ns # probabilidade de ter lucro\n",
        "print('Aposta:', aposta, 'reais.')\n",
        "print(\"Probabilidade de lucro:\", p)"
      ]
    },
    {
      "cell_type": "code",
      "execution_count": null,
      "metadata": {
        "id": "jk5-QnSvfRZ8"
      },
      "outputs": [],
      "source": []
    }
  ],
  "metadata": {
    "kernelspec": {
      "display_name": "Python 3 (ipykernel)",
      "language": "python",
      "name": "python3"
    },
    "language_info": {
      "codemirror_mode": {
        "name": "ipython",
        "version": 3
      },
      "file_extension": ".py",
      "mimetype": "text/x-python",
      "name": "python",
      "nbconvert_exporter": "python",
      "pygments_lexer": "ipython3",
      "version": "3.11.9"
    },
    "colab": {
      "provenance": []
    }
  },
  "nbformat": 4,
  "nbformat_minor": 0
}